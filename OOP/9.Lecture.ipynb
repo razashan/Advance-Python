{
 "cells": [
  {
   "cell_type": "markdown",
   "metadata": {},
   "source": [
    "# First Class Function"
   ]
  },
  {
   "cell_type": "code",
   "execution_count": 1,
   "metadata": {},
   "outputs": [],
   "source": [
    "def square(x):\n",
    "    return x*x"
   ]
  },
  {
   "cell_type": "code",
   "execution_count": 5,
   "metadata": {},
   "outputs": [],
   "source": [
    "def my_map(func,arg_list):\n",
    "    result = []\n",
    "    for i in arg_list:\n",
    "        result.append(func(i))\n",
    "    return result\n",
    "squares = my_map(square,[1,2,3,4,5])"
   ]
  },
  {
   "cell_type": "code",
   "execution_count": 6,
   "metadata": {},
   "outputs": [
    {
     "name": "stdout",
     "output_type": "stream",
     "text": [
      "[1, 4, 9, 16, 25]\n"
     ]
    }
   ],
   "source": [
    "print(squares)"
   ]
  },
  {
   "cell_type": "code",
   "execution_count": 7,
   "metadata": {},
   "outputs": [],
   "source": [
    "def cube(x):\n",
    "    return x*x*x"
   ]
  },
  {
   "cell_type": "code",
   "execution_count": 8,
   "metadata": {},
   "outputs": [
    {
     "name": "stdout",
     "output_type": "stream",
     "text": [
      "[1, 8, 27, 64, 125]\n"
     ]
    }
   ],
   "source": [
    "cube = my_map(cube,[1,2,3,4,5])\n",
    "print(cube)"
   ]
  },
  {
   "cell_type": "code",
   "execution_count": 12,
   "metadata": {},
   "outputs": [
    {
     "name": "stdout",
     "output_type": "stream",
     "text": [
      "Log: Hi\n"
     ]
    }
   ],
   "source": [
    "def logger(msg):\n",
    "    def logger_msg():\n",
    "        print('Log:',msg)\n",
    "    return logger_msg\n",
    "\n",
    "log_hi = logger('Hi')\n",
    "log_hi()"
   ]
  },
  {
   "cell_type": "code",
   "execution_count": 15,
   "metadata": {},
   "outputs": [],
   "source": [
    "def html_tag(tag):\n",
    "    def wrap_text(msg):\n",
    "        print('<{0}>{1}</{0}>'.format(tag,msg))\n",
    "    return wrap_text\n"
   ]
  },
  {
   "cell_type": "code",
   "execution_count": 17,
   "metadata": {},
   "outputs": [
    {
     "name": "stdout",
     "output_type": "stream",
     "text": [
      "<hi>Test Headline! </hi>\n",
      "<hi>Another Headline</hi>\n"
     ]
    }
   ],
   "source": [
    "h1 = html_tag('hi')\n",
    "h1('Test Headline! ')\n",
    "h1('Another Headline')"
   ]
  },
  {
   "cell_type": "markdown",
   "metadata": {},
   "source": [
    "# Closures "
   ]
  },
  {
   "cell_type": "code",
   "execution_count": 22,
   "metadata": {},
   "outputs": [
    {
     "name": "stdout",
     "output_type": "stream",
     "text": [
      "Hi\n",
      "hello\n"
     ]
    }
   ],
   "source": [
    "def outer_func(msg):\n",
    "    message = msg\n",
    "    def inner_funct():\n",
    "        print(message)\n",
    "    return inner_funct\n",
    "\n",
    "hi_func = outer_func('Hi')\n",
    "hi_func()\n",
    "\n",
    "hello_func = outer_func(\"hello\")\n",
    "hello_func()"
   ]
  },
  {
   "cell_type": "code",
   "execution_count": 25,
   "metadata": {},
   "outputs": [
    {
     "name": "stdout",
     "output_type": "stream",
     "text": [
      "7\n",
      "1.9\n",
      "72\n"
     ]
    }
   ],
   "source": [
    "def logger(func):\n",
    "    def log_func(*args):\n",
    "        print(func(*args))\n",
    "        \n",
    "    return log_func\n",
    "\n",
    "def add(x,y):\n",
    "    return x+y\n",
    "def sub(x,y):\n",
    "    return x-y\n",
    "def mul(x,y):\n",
    "    return x*y\n",
    "\n",
    "add_logger = logger(add)\n",
    "add_logger(3,4)\n",
    "\n",
    "sub_logger = logger(sub)\n",
    "sub_logger(4.0,2.1)\n",
    "\n",
    "mul_logger = logger(mul)\n",
    "mul_logger(8,9)"
   ]
  },
  {
   "cell_type": "markdown",
   "metadata": {},
   "source": [
    "# Decorators"
   ]
  },
  {
   "cell_type": "code",
   "execution_count": 28,
   "metadata": {},
   "outputs": [
    {
     "name": "stdout",
     "output_type": "stream",
     "text": [
      "hi\n"
     ]
    }
   ],
   "source": [
    "def outer_func():\n",
    "    message = 'hi'\n",
    "    def inner_func():\n",
    "        print(message)\n",
    "    return inner_func()\n",
    "\n",
    "outer_func()\n"
   ]
  },
  {
   "cell_type": "code",
   "execution_count": 30,
   "metadata": {},
   "outputs": [
    {
     "name": "stdout",
     "output_type": "stream",
     "text": [
      "display function ran\n"
     ]
    }
   ],
   "source": [
    "def decorator_function(original_function):\n",
    "    def wrapper_function():\n",
    "        return original_function()\n",
    "    return wrapper_function\n",
    "\n",
    "def display():\n",
    "    print('display function ran')\n",
    "    \n",
    "decorated_display = decorator_function(display)\n",
    "decorated_display()"
   ]
  },
  {
   "cell_type": "code",
   "execution_count": 31,
   "metadata": {},
   "outputs": [
    {
     "name": "stdout",
     "output_type": "stream",
     "text": [
      "Wrapper executed this before display\n",
      "Display function ran\n"
     ]
    }
   ],
   "source": [
    "def decorator_function(original_function):\n",
    "    def wrapper_function():\n",
    "        print('Wrapper executed this before {}'.format(original_function.__name__))\n",
    "        return original_function()\n",
    "    return wrapper_function\n",
    "\n",
    "def display():\n",
    "    print('Display function ran')\n",
    "    \n",
    "decorated = decorator_function(display)\n",
    "decorated()"
   ]
  },
  {
   "cell_type": "code",
   "execution_count": 32,
   "metadata": {},
   "outputs": [
    {
     "name": "stdout",
     "output_type": "stream",
     "text": [
      "Wrapper executed this before display\n",
      "This is display function\n"
     ]
    }
   ],
   "source": [
    "def decorate_function(original_function):\n",
    "    def wrapper_function():\n",
    "        print('Wrapper executed this before {}'.format(original_function.__name__))\n",
    "        return original_function()\n",
    "    return wrapper_function\n",
    "\n",
    "\n",
    "@decorate_function\n",
    "def display():\n",
    "    print(\"This is display function\")\n",
    "    \n",
    "display()"
   ]
  },
  {
   "cell_type": "code",
   "execution_count": 43,
   "metadata": {},
   "outputs": [
    {
     "name": "stdout",
     "output_type": "stream",
     "text": [
      "Wrapper executed this before display\n",
      "This is a display function\n",
      "Wrapper is executed this before intro\n",
      "My name is Shan and age is 23\n"
     ]
    }
   ],
   "source": [
    "def decorator_function(orignal_function):\n",
    "    def wrapper_function(*args, **kwargs):\n",
    "        print('Wrapper is executed this before {}'.format(orignal_function.__name__))\n",
    "        return orignal_function(*args,**kwargs)\n",
    "    return wrapper_function\n",
    "\n",
    "@decorate_function\n",
    "def display():\n",
    "    print(\"This is a display function\")\n",
    "display()    \n",
    "@decorator_function\n",
    "def intro(name,age):\n",
    "    print(\"My name is {} and age is {}\".format(name,age))\n",
    "    \n",
    "intro(\"Shan\",23)"
   ]
  },
  {
   "cell_type": "code",
   "execution_count": 1,
   "metadata": {},
   "outputs": [],
   "source": [
    "def decorators_func(func):\n",
    "    def wrapper_func():\n",
    "        print('X'*20)\n",
    "        func()\n",
    "        print('Y'*20)\n",
    "    return wrapper_func\n",
    "@decorators_func\n",
    "def say_hello():\n",
    "    print('Hello World')\n",
    "    \n"
   ]
  },
  {
   "cell_type": "code",
   "execution_count": null,
   "metadata": {},
   "outputs": [],
   "source": []
  },
  {
   "cell_type": "code",
   "execution_count": 2,
   "metadata": {},
   "outputs": [
    {
     "name": "stdout",
     "output_type": "stream",
     "text": [
      "XXXXXXXXXXXXXXXXXXXX\n",
      "Hello World\n",
      "YYYYYYYYYYYYYYYYYYYY\n"
     ]
    }
   ],
   "source": [
    "say_hello()"
   ]
  },
  {
   "cell_type": "code",
   "execution_count": null,
   "metadata": {},
   "outputs": [],
   "source": []
  }
 ],
 "metadata": {
  "kernelspec": {
   "display_name": "Python 3",
   "language": "python",
   "name": "python3"
  },
  "language_info": {
   "codemirror_mode": {
    "name": "ipython",
    "version": 3
   },
   "file_extension": ".py",
   "mimetype": "text/x-python",
   "name": "python",
   "nbconvert_exporter": "python",
   "pygments_lexer": "ipython3",
   "version": "3.7.3"
  }
 },
 "nbformat": 4,
 "nbformat_minor": 2
}
